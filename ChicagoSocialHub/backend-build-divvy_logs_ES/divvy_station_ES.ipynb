{
 "cells": [
  {
   "cell_type": "code",
   "execution_count": null,
   "metadata": {},
   "outputs": [],
   "source": [
    "##################################################################################################\n",
    "##################################################################################################\n",
    "\n",
    "\n",
    "### This file and the source code provided can be used only for the projects and assignments  \n",
    "### of this course\n",
    "\n",
    "### Last Edit by Atef Bader: 03/22/2018\n",
    "\n",
    "\n",
    "##################################################################################################"
   ]
  },
  {
   "cell_type": "code",
   "execution_count": null,
   "metadata": {},
   "outputs": [],
   "source": [
    "import json\n",
    "import requests\n",
    "import datetime\n",
    "import time\n",
    "import os\n",
    "import psycopg2\n",
    "import pandas as pd\n",
    "import urllib.request\n",
    "import json\n",
    "import csv\n",
    "\n",
    "from pprint import pprint\n",
    "from psycopg2.extensions import ISOLATION_LEVEL_AUTOCOMMIT \n"
   ]
  },
  {
   "cell_type": "code",
   "execution_count": null,
   "metadata": {},
   "outputs": [],
   "source": [
    "from elasticsearch import Elasticsearch, helpers \n",
    "\n",
    "es = Elasticsearch()"
   ]
  },
  {
   "cell_type": "code",
   "execution_count": null,
   "metadata": {},
   "outputs": [],
   "source": [
    "import time\n",
    "\n",
    "while True:\n",
    "    # Get divvy statations status\n",
    "    # Status is returned as a json reply\n",
    "    response = urllib.request.urlopen('https://feeds.divvybikes.com/stations/stations.json')\n",
    "    list__divvy_station_documents = []\n",
    "    # Extract the body of the reply\n",
    "    response_body = response.read()\n",
    "\n",
    "    # Decode the format in json format\n",
    "    stations_json = json.loads(response_body.decode(\"utf-8\"))\n",
    "    \n",
    "    # load data file into a dataframe\n",
    "    df__stations = pd.DataFrame(stations_json['stationBeanList'])\n",
    "    \n",
    "    # Clean the BLANKs from the data\n",
    "    df__stations['altitude'] = df__stations['altitude'].apply(lambda x: 0 if x == '' else x)\n",
    "    df__stations['postalCode'] = df__stations['postalCode'].apply(lambda x: 0 if x == '' else x)\n",
    "    \n",
    "    #Remove the whitespace from the end of hte city name\n",
    "    df__stations['city'] = df__stations['city'].apply(lambda x: 'Chicago' if x == 'Chicago ' else x)\n",
    "\n",
    "    # store the data in a file in case needed it for realtime debugging\n",
    "    df__stations.to_csv('divvy_stations_logs.csv',sep=',', encoding='utf-8', index=False)\n",
    "    \n",
    "    for review in stations_json['stationBeanList']:\n",
    "        index_review = {  \n",
    "            \"_index\": \"divvy_station_logs_es\",\n",
    "            \"_type\": \"logs\",\n",
    "            \"_id\": review['id'],\n",
    "            \"_source\": review\n",
    "        }\n",
    "        list__divvy_station_documents.append(index_review) \n",
    "    \n",
    "    helpers.bulk(es, list__divvy_station_documents)  # To save data in elastic search\n",
    "    \n",
    "    output_file = open('chicago-diivy-station-for-es.json', 'w', encoding='utf-8')\n",
    "\n",
    "    for dic in df__stations:\n",
    "        json.dump(dic, output_file) \n",
    "        output_file.write(\"\\n\")\n",
    "    \n",
    "    # Sleep for 3 minutes; divvy updates its stations status every 2 minutes\n",
    "    print('Sent Heartbeat to Divvy Servers and Going to sleep for 2 minutes now ...')\n",
    "    time.sleep(120)    \n",
    "    continue"
   ]
  },
  {
   "cell_type": "code",
   "execution_count": null,
   "metadata": {},
   "outputs": [],
   "source": []
  },
  {
   "cell_type": "code",
   "execution_count": null,
   "metadata": {},
   "outputs": [],
   "source": []
  }
 ],
 "metadata": {
  "kernelspec": {
   "display_name": "Python 3",
   "language": "python",
   "name": "python3"
  }
 },
 "nbformat": 4,
 "nbformat_minor": 2
}
